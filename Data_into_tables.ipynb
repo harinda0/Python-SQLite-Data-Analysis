{
 "cells": [
  {
   "cell_type": "code",
   "execution_count": 33,
   "id": "2b10093c",
   "metadata": {},
   "outputs": [],
   "source": [
    "import sqlite3\n",
    "import pandas as pd"
   ]
  },
  {
   "cell_type": "code",
   "execution_count": 34,
   "id": "c4412bff",
   "metadata": {},
   "outputs": [],
   "source": [
    "#Connect to database\n",
    "conn = sqlite3.connect('LibraryDatabase.db')\n",
    "cursor = conn.cursor()"
   ]
  },
  {
   "cell_type": "code",
   "execution_count": 35,
   "id": "a0d86411",
   "metadata": {},
   "outputs": [
    {
     "data": {
      "text/plain": [
       "<sqlite3.Cursor at 0x1fc998af7c0>"
      ]
     },
     "execution_count": 35,
     "metadata": {},
     "output_type": "execute_result"
    }
   ],
   "source": [
    "#Insert sample data into Users table\n",
    "cursor.execute(\"INSERT INTO Users (id, full_name, enabled, last_login) VALUES (1, 'John Smith', 'f', '2017-10-25 10:26:10.015152')\")\n",
    "cursor.execute(\"INSERT INTO Users (id, full_name, enabled, last_login) VALUES (2, 'Alice Walker', 't', '2017-10-25 10:26:50.249461')\")\n",
    "cursor.execute(\"INSERT INTO Users (id, full_name, enabled, last_login) VALUES (3, 'Harry Potter', 't', '2017-10-25 10:26:50.249461')\")\n",
    "cursor.execute(\"INSERT INTO Users (id, full_name, enabled, last_login) VALUES (4, 'Jane Smith', 't', '2017-10-25 10:36:43.324015')\")"
   ]
  },
  {
   "cell_type": "code",
   "execution_count": 36,
   "id": "b4aeeea6",
   "metadata": {},
   "outputs": [
    {
     "data": {
      "text/plain": [
       "<sqlite3.Cursor at 0x1fc998af7c0>"
      ]
     },
     "execution_count": 36,
     "metadata": {},
     "output_type": "execute_result"
    }
   ],
   "source": [
    "#Insert sample data into Addresses table\n",
    "cursor.execute(\"INSERT INTO Addresses (user_id, user_id, street, city, state) VALUES (1, 1, '1 Market Street', 'San Francisco', 'CA')\")\n",
    "cursor.execute(\"INSERT INTO Addresses (user_id, user_id, street, city, state) VALUES (2, 2, '2 Elm Street', 'San Francisco', 'CA')\")\n",
    "cursor.execute(\"INSERT INTO Addresses (user_id, user_id, street, city, state) VALUES (3, 3, '3 Main Street', 'Boston', 'MA')\")"
   ]
  },
  {
   "cell_type": "code",
   "execution_count": 37,
   "id": "75933f48",
   "metadata": {},
   "outputs": [
    {
     "data": {
      "text/plain": [
       "<sqlite3.Cursor at 0x1fc998af7c0>"
      ]
     },
     "execution_count": 37,
     "metadata": {},
     "output_type": "execute_result"
    }
   ],
   "source": [
    "#Insert sample data into Books table\n",
    "cursor.execute(\"INSERT INTO Books (id, title, author, published_date, isbn) VALUES (1, 'My First SQL book', 'Mary Parker', '2012-02-22 12:08:17.320053-03', '981483029127')\")\n",
    "cursor.execute(\"INSERT INTO Books (id, title, author, published_date, isbn) VALUES (2, 'My Second SQL book', 'John Mayer', '1972-07-03 09:22:45.050088-07', '857300023713')\")\n",
    "cursor.execute(\"INSERT INTO Books (id, title, author, published_date, isbn) VALUES (3, 'My Third SQL book', 'Cary Flint', '2015-10-18 14:05:44.547516-07', '523120967812')\")"
   ]
  },
  {
   "cell_type": "code",
   "execution_count": 38,
   "id": "8a7ac329",
   "metadata": {},
   "outputs": [
    {
     "data": {
      "text/plain": [
       "<sqlite3.Cursor at 0x1fc998af7c0>"
      ]
     },
     "execution_count": 38,
     "metadata": {},
     "output_type": "execute_result"
    }
   ],
   "source": [
    "#Insert sample data into Reviews table\n",
    "cursor.execute(\"INSERT INTO Reviews (id, book_id, reviewer_name, content, rating, published_date) VALUES (1, 1, 'John Smith', 'My first review', 4, '2017-12-10 05:50:11.127281-02')\")\n",
    "cursor.execute(\"INSERT INTO Reviews (id, book_id, reviewer_name, content, rating, published_date) VALUES (2, 2, 'John Smith', 'My second review', 5, '2017-10-13 15:05:12.673382-05')\")\n",
    "cursor.execute(\"INSERT INTO Reviews (id, book_id, reviewer_name, content, rating, published_date) VALUES (3, 2, 'Alice Walker', 'Another review', 1, '2017-10-22 23:47:10.407569-07')\")"
   ]
  },
  {
   "cell_type": "code",
   "execution_count": 39,
   "id": "636be5d4",
   "metadata": {},
   "outputs": [
    {
     "data": {
      "text/plain": [
       "<sqlite3.Cursor at 0x1fc998af7c0>"
      ]
     },
     "execution_count": 39,
     "metadata": {},
     "output_type": "execute_result"
    }
   ],
   "source": [
    "#Insert sample data into Checkouts table\n",
    "cursor.execute(\"INSERT INTO Checkouts (id, user_id, book_id, checkout_date, return_date) VALUES (1, 1, 1, '2017-10-15 14:43:18.095143-07', NULL)\")\n",
    "cursor.execute(\"INSERT INTO Checkouts (id, user_id, book_id, checkout_date, return_date) VALUES (2, 1, 2, '2017-10-05 16:22:44.593188-07', '2017-10-13 13:05:12.673382-05')\")\n",
    "cursor.execute(\"INSERT INTO Checkouts (id, user_id, book_id, checkout_date, return_date) VALUES (3, 2, 2, '2017-10-15 11:11:24.994973-07', '2017-10-22 17:47:10.407569-07')\")\n",
    "cursor.execute(\"INSERT INTO Checkouts (id, user_id, book_id, checkout_date, return_date) VALUES (4, 5, 3, '2017-10-15 09:27:07.215217-07', NULL)\")"
   ]
  },
  {
   "cell_type": "code",
   "execution_count": 40,
   "id": "22ed3daa",
   "metadata": {},
   "outputs": [
    {
     "name": "stdout",
     "output_type": "stream",
     "text": [
      "(1, 'John Smith', 'f', '2017-10-25 10:26:10.015152')\n",
      "(2, 'Alice Walker', 't', '2017-10-25 10:26:50.249461')\n",
      "(3, 'Harry Potter', 't', '2017-10-25 10:26:50.249461')\n",
      "(4, 'Jane Smith', 't', '2017-10-25 10:36:43.324015')\n"
     ]
    }
   ],
   "source": [
    "#checking users table\n",
    "query_users = '''\n",
    "SELECT * FROM Users\n",
    "'''\n",
    "cursor.execute(query_users)\n",
    "results_users = cursor.fetchall()\n",
    "for row in results_users:\n",
    "    print(row)"
   ]
  },
  {
   "cell_type": "code",
   "execution_count": 41,
   "id": "390c922a",
   "metadata": {},
   "outputs": [
    {
     "name": "stdout",
     "output_type": "stream",
     "text": [
      "(1, 'My First SQL book', 'Mary Parker', '2012-02-22 12:08:17.320053-03', '981483029127')\n",
      "(2, 'My Second SQL book', 'John Mayer', '1972-07-03 09:22:45.050088-07', '857300023713')\n",
      "(3, 'My Third SQL book', 'Cary Flint', '2015-10-18 14:05:44.547516-07', '523120967812')\n"
     ]
    }
   ],
   "source": [
    "#checking Books table\n",
    "query_books = '''\n",
    "SELECT * FROM Books\n",
    "'''\n",
    "cursor.execute(query_books)\n",
    "results_books = cursor.fetchall()\n",
    "for row in results_books:\n",
    "    print(row)"
   ]
  },
  {
   "cell_type": "code",
   "execution_count": 42,
   "id": "a828fe5c",
   "metadata": {},
   "outputs": [
    {
     "name": "stdout",
     "output_type": "stream",
     "text": [
      "(1, 1, 1, '2017-10-15 14:43:18.095143-07', None)\n",
      "(2, 1, 2, '2017-10-05 16:22:44.593188-07', '2017-10-13 13:05:12.673382-05')\n",
      "(3, 2, 2, '2017-10-15 11:11:24.994973-07', '2017-10-22 17:47:10.407569-07')\n",
      "(4, 5, 3, '2017-10-15 09:27:07.215217-07', None)\n"
     ]
    }
   ],
   "source": [
    "#checking Checkouts table\n",
    "query_checkouts = '''\n",
    "SELECT * FROM Checkouts\n",
    "'''\n",
    "cursor.execute(query_checkouts)\n",
    "results_checkouts = cursor.fetchall()\n",
    "for row in results_checkouts:\n",
    "    print(row)"
   ]
  },
  {
   "cell_type": "code",
   "execution_count": 43,
   "id": "9ba07866",
   "metadata": {},
   "outputs": [
    {
     "name": "stdout",
     "output_type": "stream",
     "text": [
      "(1, '1 Market Street', 'San Francisco', 'CA')\n",
      "(2, '2 Elm Street', 'San Francisco', 'CA')\n",
      "(3, '3 Main Street', 'Boston', 'MA')\n"
     ]
    }
   ],
   "source": [
    "#checking Addresses table\n",
    "query_addresses = '''\n",
    "SELECT * FROM Addresses\n",
    "'''\n",
    "cursor.execute(query_addresses)\n",
    "results_addresses = cursor.fetchall()\n",
    "for row in results_addresses:\n",
    "    print(row)"
   ]
  },
  {
   "cell_type": "code",
   "execution_count": 44,
   "id": "f0b02449",
   "metadata": {},
   "outputs": [
    {
     "name": "stdout",
     "output_type": "stream",
     "text": [
      "(1, 1, 'John Smith', 'My first review', 4, '2017-12-10 05:50:11.127281-02')\n",
      "(2, 2, 'John Smith', 'My second review', 5, '2017-10-13 15:05:12.673382-05')\n",
      "(3, 2, 'Alice Walker', 'Another review', 1, '2017-10-22 23:47:10.407569-07')\n"
     ]
    }
   ],
   "source": [
    "#checking Reviews table\n",
    "query_reviews = '''\n",
    "SELECT * FROM Reviews\n",
    "'''\n",
    "cursor.execute(query_reviews)\n",
    "results_reviews = cursor.fetchall()\n",
    "for row in results_reviews:\n",
    "    print(row)"
   ]
  },
  {
   "cell_type": "code",
   "execution_count": 45,
   "id": "65e523e3",
   "metadata": {},
   "outputs": [],
   "source": [
    "conn.commit()\n",
    "conn.close()"
   ]
  },
  {
   "cell_type": "code",
   "execution_count": null,
   "id": "9fe59bfe",
   "metadata": {},
   "outputs": [],
   "source": []
  }
 ],
 "metadata": {
  "kernelspec": {
   "display_name": "Python 3 (ipykernel)",
   "language": "python",
   "name": "python3"
  },
  "language_info": {
   "codemirror_mode": {
    "name": "ipython",
    "version": 3
   },
   "file_extension": ".py",
   "mimetype": "text/x-python",
   "name": "python",
   "nbconvert_exporter": "python",
   "pygments_lexer": "ipython3",
   "version": "3.11.7"
  }
 },
 "nbformat": 4,
 "nbformat_minor": 5
}
