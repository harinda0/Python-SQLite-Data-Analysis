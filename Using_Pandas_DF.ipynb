{
 "cells": [
  {
   "cell_type": "code",
   "execution_count": 1,
   "id": "8d0b9844",
   "metadata": {},
   "outputs": [],
   "source": [
    "#Using Pandas DataFrame"
   ]
  },
  {
   "cell_type": "code",
   "execution_count": 2,
   "id": "dd4256cd",
   "metadata": {},
   "outputs": [],
   "source": [
    "import sqlite3\n",
    "import pandas as pd"
   ]
  },
  {
   "cell_type": "code",
   "execution_count": 3,
   "id": "e0c35750",
   "metadata": {},
   "outputs": [],
   "source": [
    "#Connect to the SQLite database\n",
    "conn = sqlite3.connect('LibraryDatabase.db')"
   ]
  },
  {
   "cell_type": "code",
   "execution_count": 4,
   "id": "211a8964",
   "metadata": {},
   "outputs": [],
   "source": [
    "#find the books checked out by John Smith using Pandas"
   ]
  },
  {
   "cell_type": "code",
   "execution_count": 5,
   "id": "5451c7e0",
   "metadata": {},
   "outputs": [
    {
     "name": "stdout",
     "output_type": "stream",
     "text": [
      "Books checked out by John Smith:\n",
      "                title       author          isbn\n",
      "0   My First SQL book  Mary Parker   98148302127\n",
      "1  My Second SQL book   John Mayer  857300923713\n"
     ]
    }
   ],
   "source": [
    "#Load data into pandas DataFrames\n",
    "books_df = pd.read_sql_query(\"SELECT * FROM Books\", conn)\n",
    "checkouts_df = pd.read_sql_query(\"SELECT * FROM Checkouts\", conn)\n",
    "users_df = pd.read_sql_query(\"SELECT * FROM Users\", conn)\n",
    "\n",
    "#Merge DataFrames to find books checked out by John Smith\n",
    "merged_df = pd.merge(pd.merge(books_df, checkouts_df, left_on='id', right_on='book_id'), users_df, left_on='user_id', right_on='id')\n",
    "john_smith_books_df = merged_df[merged_df['full_name'] == 'John Smith'][['title', 'author', 'isbn']]\n",
    "\n",
    "print(\"Books checked out by John Smith:\")\n",
    "print(john_smith_books_df)"
   ]
  },
  {
   "cell_type": "code",
   "execution_count": 6,
   "id": "65a9f0c4",
   "metadata": {},
   "outputs": [],
   "source": [
    "#Find all reviewers for the book “My Third SQL book”"
   ]
  },
  {
   "cell_type": "code",
   "execution_count": 7,
   "id": "2908bd5c",
   "metadata": {},
   "outputs": [
    {
     "name": "stdout",
     "output_type": "stream",
     "text": [
      "Reviewers of 'My Third SQL book':\n",
      "Empty DataFrame\n",
      "Columns: [reviewer_name]\n",
      "Index: []\n"
     ]
    }
   ],
   "source": [
    "#Load data into pandas df\n",
    "reviews_df = pd.read_sql_query(\"SELECT * FROM Reviews\", conn)\n",
    "books_df = pd.read_sql_query(\"SELECT * FROM Books\", conn)\n",
    "\n",
    "#Merge dfs to find reviewers of \"My Third SQL book\"\n",
    "merged_df = pd.merge(reviews_df, books_df, left_on='book_id', right_on='id')\n",
    "reviewers_df = merged_df[merged_df['title'] == 'My Third SQL book'][['reviewer_name']]\n",
    "\n",
    "print(\"Reviewers of 'My Third SQL book':\")\n",
    "print(reviewers_df)"
   ]
  },
  {
   "cell_type": "code",
   "execution_count": 8,
   "id": "e8feccb8",
   "metadata": {},
   "outputs": [],
   "source": [
    "#Find the users that have no books checked out"
   ]
  },
  {
   "cell_type": "code",
   "execution_count": 9,
   "id": "2a3ae72b",
   "metadata": {},
   "outputs": [
    {
     "name": "stdout",
     "output_type": "stream",
     "text": [
      "Users with no books checked out:\n",
      "      full_name\n",
      "4  Harry Potter\n"
     ]
    }
   ],
   "source": [
    "#Load data into pandas dfs\n",
    "users_df = pd.read_sql_query(\"SELECT * FROM Users\", conn)\n",
    "checkouts_df = pd.read_sql_query(\"SELECT * FROM Checkouts\", conn)\n",
    "\n",
    "#Merge dfs to find users with no books checked out\n",
    "merged_df = pd.merge(users_df, checkouts_df, left_on='id', right_on='user_id', how='left', indicator=True)\n",
    "no_books_users_df = merged_df[merged_df['_merge'] == 'left_only'][['full_name']]\n",
    "\n",
    "print(\"Users with no books checked out:\")\n",
    "print(no_books_users_df)"
   ]
  },
  {
   "cell_type": "code",
   "execution_count": 10,
   "id": "69886430",
   "metadata": {},
   "outputs": [],
   "source": [
    "#Write a SQL query to show all the records of the logs table"
   ]
  },
  {
   "cell_type": "code",
   "execution_count": 11,
   "id": "cae6de38",
   "metadata": {},
   "outputs": [
    {
     "name": "stdout",
     "output_type": "stream",
     "text": [
      "Logs Table:\n",
      "   log_id  checkout_id            timestamp\n",
      "0       1            5  2024-07-07 20:27:38\n"
     ]
    }
   ],
   "source": [
    "#Load Logs table into a pandas df\n",
    "logs_df = pd.read_sql_query(\"SELECT * FROM Logs\", conn)\n",
    "\n",
    "print(\"Logs Table:\")\n",
    "print(logs_df)"
   ]
  },
  {
   "cell_type": "code",
   "execution_count": null,
   "id": "e4e53a3d",
   "metadata": {},
   "outputs": [],
   "source": []
  }
 ],
 "metadata": {
  "kernelspec": {
   "display_name": "Python 3 (ipykernel)",
   "language": "python",
   "name": "python3"
  },
  "language_info": {
   "codemirror_mode": {
    "name": "ipython",
    "version": 3
   },
   "file_extension": ".py",
   "mimetype": "text/x-python",
   "name": "python",
   "nbconvert_exporter": "python",
   "pygments_lexer": "ipython3",
   "version": "3.11.7"
  }
 },
 "nbformat": 4,
 "nbformat_minor": 5
}
