{
 "cells": [
  {
   "cell_type": "code",
   "execution_count": 1,
   "id": "4a109130",
   "metadata": {},
   "outputs": [],
   "source": [
    "import sqlite3\n",
    "import pandas as pd"
   ]
  },
  {
   "cell_type": "code",
   "execution_count": 2,
   "id": "944a21ee",
   "metadata": {},
   "outputs": [],
   "source": [
    "#Connect to the SQLite database\n",
    "conn = sqlite3.connect('LibraryDatabase.db')"
   ]
  },
  {
   "cell_type": "code",
   "execution_count": 5,
   "id": "8d7cd7de",
   "metadata": {},
   "outputs": [],
   "source": [
    "#SQL query\n",
    "query1 = '''\n",
    "SELECT Books.title, Books.author, Books.isbn\n",
    "FROM Books\n",
    "JOIN Checkouts ON Books.id = Checkouts.book_id\n",
    "JOIN Users ON Checkouts.user_id = Users.id\n",
    "WHERE Users.full_name = 'John Smith';\n",
    "'''"
   ]
  },
  {
   "cell_type": "code",
   "execution_count": 6,
   "id": "2e41d18a",
   "metadata": {},
   "outputs": [],
   "source": [
    "#Execute the query and load the results into a pandas DataFrame\n",
    "results_df1 = pd.read_sql_query(query1, conn)"
   ]
  },
  {
   "cell_type": "code",
   "execution_count": 7,
   "id": "7490c892",
   "metadata": {},
   "outputs": [
    {
     "name": "stdout",
     "output_type": "stream",
     "text": [
      "Books checked out by John Smith:\n",
      "                title       author          isbn\n",
      "0   My First SQL book  Mary Parker   98148302127\n",
      "1  My Second SQL book   John Mayer  857300923713\n"
     ]
    }
   ],
   "source": [
    "#Display the DataFrame\n",
    "print(\"Books checked out by John Smith:\")\n",
    "print(results_df1)"
   ]
  },
  {
   "cell_type": "code",
   "execution_count": 8,
   "id": "8c790c62",
   "metadata": {},
   "outputs": [],
   "source": [
    "#Find all reveiwers for the book \"My Third SQL book\""
   ]
  },
  {
   "cell_type": "code",
   "execution_count": 9,
   "id": "b8944441",
   "metadata": {},
   "outputs": [],
   "source": [
    "#SQL query\n",
    "query2 = '''\n",
    "SELECT Reviews.reviewer_name\n",
    "FROM Reviews\n",
    "JOIN Books ON Reviews.book_id = Books.id\n",
    "WHERE Books.title = 'My Third SQL book';\n",
    "'''"
   ]
  },
  {
   "cell_type": "code",
   "execution_count": 10,
   "id": "722df385",
   "metadata": {},
   "outputs": [],
   "source": [
    "#Execute the query and load the results into a pandas DataFrame\n",
    "results_df2 = pd.read_sql_query(query2, conn)"
   ]
  },
  {
   "cell_type": "code",
   "execution_count": 11,
   "id": "522ec887",
   "metadata": {},
   "outputs": [
    {
     "name": "stdout",
     "output_type": "stream",
     "text": [
      "Reviewers for 'My Third SQL book':\n",
      "Empty DataFrame\n",
      "Columns: [reviewer_name]\n",
      "Index: []\n"
     ]
    }
   ],
   "source": [
    "#Display the DataFrame\n",
    "print(\"Reviewers for 'My Third SQL book':\")\n",
    "print(results_df2)"
   ]
  },
  {
   "cell_type": "code",
   "execution_count": 12,
   "id": "1d09450a",
   "metadata": {},
   "outputs": [],
   "source": [
    "#Find the users that have no books checked out"
   ]
  },
  {
   "cell_type": "code",
   "execution_count": 13,
   "id": "57e9918d",
   "metadata": {},
   "outputs": [],
   "source": [
    "#SQL query\n",
    "query3 = '''\n",
    "SELECT Users.full_name\n",
    "FROM Users\n",
    "LEFT JOIN Checkouts ON Users.id = Checkouts.user_id\n",
    "WHERE Checkouts.id IS NULL;\n",
    "'''"
   ]
  },
  {
   "cell_type": "code",
   "execution_count": 14,
   "id": "ab34fb84",
   "metadata": {},
   "outputs": [],
   "source": [
    "#Execute the query and load the results into a pandas DataFrame\n",
    "results_df3 = pd.read_sql_query(query3, conn)"
   ]
  },
  {
   "cell_type": "code",
   "execution_count": 15,
   "id": "cfd0dda8",
   "metadata": {},
   "outputs": [
    {
     "name": "stdout",
     "output_type": "stream",
     "text": [
      "Users with no books checked out:\n",
      "      full_name\n",
      "0  Harry Potter\n"
     ]
    }
   ],
   "source": [
    "#Display the DataFrame\n",
    "print(\"Users with no books checked out:\")\n",
    "print(results_df3)"
   ]
  },
  {
   "cell_type": "code",
   "execution_count": 20,
   "id": "b504eecb",
   "metadata": {},
   "outputs": [],
   "source": [
    "#Show logs table"
   ]
  },
  {
   "cell_type": "code",
   "execution_count": 21,
   "id": "b97de63b",
   "metadata": {},
   "outputs": [],
   "source": [
    "#SQL query\n",
    "query_logs = '''\n",
    "SELECT * FROM Logs;\n",
    "'''"
   ]
  },
  {
   "cell_type": "code",
   "execution_count": 22,
   "id": "cdd496a6",
   "metadata": {},
   "outputs": [],
   "source": [
    "#Execute the query and load the results into a pandas DataFrame\n",
    "logs_df = pd.read_sql_query(query_logs, conn)"
   ]
  },
  {
   "cell_type": "code",
   "execution_count": 23,
   "id": "305277ea",
   "metadata": {},
   "outputs": [
    {
     "name": "stdout",
     "output_type": "stream",
     "text": [
      "Logs Table:\n",
      "   log_id  checkout_id            timestamp\n",
      "0       1            5  2024-07-07 20:27:38\n"
     ]
    }
   ],
   "source": [
    "#Display the DataFrame\n",
    "print(\"Logs Table:\")\n",
    "print(logs_df)"
   ]
  },
  {
   "cell_type": "code",
   "execution_count": null,
   "id": "dd4af7df",
   "metadata": {},
   "outputs": [],
   "source": []
  }
 ],
 "metadata": {
  "kernelspec": {
   "display_name": "Python 3 (ipykernel)",
   "language": "python",
   "name": "python3"
  },
  "language_info": {
   "codemirror_mode": {
    "name": "ipython",
    "version": 3
   },
   "file_extension": ".py",
   "mimetype": "text/x-python",
   "name": "python",
   "nbconvert_exporter": "python",
   "pygments_lexer": "ipython3",
   "version": "3.11.7"
  }
 },
 "nbformat": 4,
 "nbformat_minor": 5
}
