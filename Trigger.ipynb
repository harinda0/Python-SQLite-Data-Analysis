{
 "cells": [
  {
   "cell_type": "code",
   "execution_count": 13,
   "id": "74055c33",
   "metadata": {},
   "outputs": [],
   "source": [
    "import sqlite3\n",
    "import pandas as pd"
   ]
  },
  {
   "cell_type": "code",
   "execution_count": 14,
   "id": "2f64835c",
   "metadata": {},
   "outputs": [],
   "source": [
    "#Connect to database\n",
    "conn = sqlite3.connect('LibraryDatabase.db')\n",
    "cursor = conn.cursor()"
   ]
  },
  {
   "cell_type": "code",
   "execution_count": 3,
   "id": "43ad6fe5",
   "metadata": {},
   "outputs": [
    {
     "data": {
      "text/plain": [
       "<sqlite3.Cursor at 0x1fc983ecd40>"
      ]
     },
     "execution_count": 3,
     "metadata": {},
     "output_type": "execute_result"
    }
   ],
   "source": [
    "#Creating logs table\n",
    "cursor.execute('''\n",
    "    CREATE TABLE IF NOT EXISTS Logs (\n",
    "        log_id INTEGER PRIMARY KEY AUTOINCREMENT,\n",
    "        checkout_id INTEGER,\n",
    "        timestamp DATETIME DEFAULT CURRENT_TIMESTAMP\n",
    "    )\n",
    "''')"
   ]
  },
  {
   "cell_type": "code",
   "execution_count": 4,
   "id": "9e2282cf",
   "metadata": {},
   "outputs": [
    {
     "data": {
      "text/plain": [
       "<sqlite3.Cursor at 0x1fc983ecd40>"
      ]
     },
     "execution_count": 4,
     "metadata": {},
     "output_type": "execute_result"
    }
   ],
   "source": [
    "#Create a trigger\n",
    "cursor.execute('''\n",
    "    CREATE TRIGGER IF NOT EXISTS LogCheckout\n",
    "    AFTER INSERT ON Checkouts\n",
    "    FOR EACH ROW\n",
    "    BEGIN\n",
    "        INSERT INTO Logs (checkout_id) VALUES (NEW.id);\n",
    "    END;\n",
    "''')"
   ]
  },
  {
   "cell_type": "code",
   "execution_count": 5,
   "id": "ed82d33a",
   "metadata": {},
   "outputs": [],
   "source": [
    "#Testing the trigger"
   ]
  },
  {
   "cell_type": "code",
   "execution_count": 6,
   "id": "26f014fc",
   "metadata": {},
   "outputs": [
    {
     "data": {
      "text/plain": [
       "<sqlite3.Cursor at 0x1fc983ecd40>"
      ]
     },
     "execution_count": 6,
     "metadata": {},
     "output_type": "execute_result"
    }
   ],
   "source": [
    "#Inserting a new checkout record\n",
    "cursor.execute('''\n",
    "INSERT INTO Checkouts (id, user_id, book_id, checkout_date, return_date)\n",
    "VALUES (5, 2, 1, '2024-07-05', '2024-07-06')\n",
    "''')"
   ]
  },
  {
   "cell_type": "code",
   "execution_count": 7,
   "id": "581b2cf5",
   "metadata": {},
   "outputs": [],
   "source": [
    "#verify the log\n",
    "logs_query = '''\n",
    "SELECT * FROM Logs\n",
    "'''"
   ]
  },
  {
   "cell_type": "code",
   "execution_count": 8,
   "id": "e0214310",
   "metadata": {},
   "outputs": [
    {
     "name": "stdout",
     "output_type": "stream",
     "text": [
      "(1, 5, '2024-07-06 18:12:08')\n"
     ]
    }
   ],
   "source": [
    "cursor.execute(logs_query)\n",
    "logs_results = cursor.fetchall()\n",
    "\n",
    "for log in logs_results:\n",
    "    print(log)"
   ]
  },
  {
   "cell_type": "code",
   "execution_count": 9,
   "id": "95e2db78",
   "metadata": {},
   "outputs": [],
   "source": [
    "#Now lets check the two tables"
   ]
  },
  {
   "cell_type": "code",
   "execution_count": 15,
   "id": "85a07b9f",
   "metadata": {},
   "outputs": [
    {
     "name": "stdout",
     "output_type": "stream",
     "text": [
      "\n",
      "Checkouts Table:\n",
      "(1, 1, 1, '2017-10-15 14:43:18.095143-07', None)\n",
      "(2, 1, 2, '2017-10-05 16:22:44.593188-07', '2017-10-13 13:05:12.673382-05')\n",
      "(3, 2, 2, '2017-10-15 11:11:24.994973-07', '2017-10-22 17:47:10.407569-07')\n",
      "(4, 5, 3, '2017-10-15 09:27:07.215217-07', None)\n",
      "(5, 2, 1, '2024-07-05', '2024-07-06')\n"
     ]
    }
   ],
   "source": [
    "#view the Checkouts table\n",
    "view_checkouts_query = '''\n",
    "SELECT * FROM Checkouts\n",
    "'''\n",
    "\n",
    "cursor.execute(view_checkouts_query)\n",
    "checkouts_results = cursor.fetchall()\n",
    "\n",
    "print(\"\\nCheckouts Table:\")\n",
    "for checkout in checkouts_results:\n",
    "    print(checkout)"
   ]
  },
  {
   "cell_type": "code",
   "execution_count": 16,
   "id": "34461e29",
   "metadata": {},
   "outputs": [
    {
     "name": "stdout",
     "output_type": "stream",
     "text": [
      "Logs Table:\n",
      "(1, 5, '2024-07-06 18:12:08')\n"
     ]
    }
   ],
   "source": [
    "#view the Logs table\n",
    "view_logs_query = '''\n",
    "SELECT * FROM Logs\n",
    "'''\n",
    "\n",
    "cursor.execute(view_logs_query)\n",
    "logs_results = cursor.fetchall()\n",
    "\n",
    "print(\"Logs Table:\")\n",
    "for log in logs_results:\n",
    "    print(log)"
   ]
  },
  {
   "cell_type": "code",
   "execution_count": 12,
   "id": "991e022c",
   "metadata": {},
   "outputs": [],
   "source": [
    "conn.commit()\n",
    "conn.close()"
   ]
  },
  {
   "cell_type": "code",
   "execution_count": null,
   "id": "e8fedee2",
   "metadata": {},
   "outputs": [],
   "source": []
  }
 ],
 "metadata": {
  "kernelspec": {
   "display_name": "Python 3 (ipykernel)",
   "language": "python",
   "name": "python3"
  },
  "language_info": {
   "codemirror_mode": {
    "name": "ipython",
    "version": 3
   },
   "file_extension": ".py",
   "mimetype": "text/x-python",
   "name": "python",
   "nbconvert_exporter": "python",
   "pygments_lexer": "ipython3",
   "version": "3.11.7"
  }
 },
 "nbformat": 4,
 "nbformat_minor": 5
}
