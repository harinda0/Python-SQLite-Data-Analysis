{
 "cells": [
  {
   "cell_type": "code",
   "execution_count": 1,
   "id": "dd29346d",
   "metadata": {},
   "outputs": [],
   "source": [
    "#Find the title, authors and the isbn of the books that ‘John Smith’ has checked out"
   ]
  },
  {
   "cell_type": "code",
   "execution_count": 2,
   "id": "ecfa3be1",
   "metadata": {},
   "outputs": [],
   "source": [
    "import sqlite3\n",
    "import pandas as pd"
   ]
  },
  {
   "cell_type": "code",
   "execution_count": 3,
   "id": "d090123d",
   "metadata": {},
   "outputs": [],
   "source": [
    "#Connect to the database\n",
    "conn = sqlite3.connect('LibraryDatabase.db')\n",
    "cursor = conn.cursor()"
   ]
  },
  {
   "cell_type": "code",
   "execution_count": 4,
   "id": "1175bab6",
   "metadata": {},
   "outputs": [
    {
     "name": "stdout",
     "output_type": "stream",
     "text": [
      "Books checked out by John Smith:\n",
      "('My First SQL book', 'Mary Parker', '98148302127')\n",
      "('My Second SQL book', 'John Mayer', '857300923713')\n"
     ]
    }
   ],
   "source": [
    "#find the books checked out by John Smith\n",
    "query1 = '''\n",
    "SELECT Books.title, Books.author, Books.isbn\n",
    "FROM Books\n",
    "JOIN Checkouts ON Books.id = Checkouts.book_id\n",
    "JOIN Users ON Checkouts.user_id = Users.id\n",
    "WHERE Users.full_name = 'John Smith'\n",
    "'''\n",
    "\n",
    "cursor.execute(query1)\n",
    "results1 = cursor.fetchall()\n",
    "\n",
    "print(\"Books checked out by John Smith:\")\n",
    "for row in results1:\n",
    "    print(row)"
   ]
  },
  {
   "cell_type": "code",
   "execution_count": 5,
   "id": "0bc290b9",
   "metadata": {},
   "outputs": [],
   "source": [
    "#find the books checked out by John Smith using Pandas"
   ]
  },
  {
   "cell_type": "code",
   "execution_count": 6,
   "id": "83f163bf",
   "metadata": {},
   "outputs": [
    {
     "name": "stdout",
     "output_type": "stream",
     "text": [
      "Books checked out by John Smith:\n",
      "                title       author          isbn\n",
      "0   My First SQL book  Mary Parker   98148302127\n",
      "1  My Second SQL book   John Mayer  857300923713\n"
     ]
    }
   ],
   "source": [
    "#Load data into pandas DataFrames\n",
    "books_df = pd.read_sql_query(\"SELECT * FROM Books\", conn)\n",
    "checkouts_df = pd.read_sql_query(\"SELECT * FROM Checkouts\", conn)\n",
    "users_df = pd.read_sql_query(\"SELECT * FROM Users\", conn)\n",
    "\n",
    "#Merge DataFrames to find books checked out by John Smith\n",
    "merged_df = pd.merge(pd.merge(books_df, checkouts_df, left_on='id', right_on='book_id'), users_df, left_on='user_id', right_on='id')\n",
    "john_smith_books_df = merged_df[merged_df['full_name'] == 'John Smith'][['title', 'author', 'isbn']]\n",
    "\n",
    "print(\"Books checked out by John Smith:\")\n",
    "print(john_smith_books_df)"
   ]
  },
  {
   "cell_type": "code",
   "execution_count": null,
   "id": "8cafa1ee",
   "metadata": {},
   "outputs": [],
   "source": []
  },
  {
   "cell_type": "code",
   "execution_count": 7,
   "id": "9dbd72e5",
   "metadata": {},
   "outputs": [],
   "source": [
    "#Find all reviewers for the book “My Third SQL book”"
   ]
  },
  {
   "cell_type": "code",
   "execution_count": 8,
   "id": "1526a285",
   "metadata": {},
   "outputs": [
    {
     "name": "stdout",
     "output_type": "stream",
     "text": [
      "Reviewers of 'My Third SQL book':\n"
     ]
    }
   ],
   "source": [
    "#find reviewers of \"My Third SQL book\"\n",
    "query2 = '''\n",
    "SELECT Reviews.reviewer_name\n",
    "FROM Reviews\n",
    "JOIN Books ON Reviews.book_id = Books.id\n",
    "WHERE Books.title = 'My Third SQL book'\n",
    "'''\n",
    "\n",
    "cursor.execute(query2)\n",
    "results2 = cursor.fetchall()\n",
    "\n",
    "print(\"Reviewers of 'My Third SQL book':\")\n",
    "for row in results2:\n",
    "    print(row)"
   ]
  },
  {
   "cell_type": "code",
   "execution_count": 9,
   "id": "a90b573e",
   "metadata": {},
   "outputs": [
    {
     "name": "stdout",
     "output_type": "stream",
     "text": [
      "Reviewers of 'My Third SQL book':\n",
      "Empty DataFrame\n",
      "Columns: [reviewer_name]\n",
      "Index: []\n"
     ]
    }
   ],
   "source": [
    "#Using Pandas\n",
    "#Load data into pandas df\n",
    "reviews_df = pd.read_sql_query(\"SELECT * FROM Reviews\", conn)\n",
    "books_df = pd.read_sql_query(\"SELECT * FROM Books\", conn)\n",
    "\n",
    "#Merge dfs to find reviewers of \"My Third SQL book\"\n",
    "merged_df = pd.merge(reviews_df, books_df, left_on='book_id', right_on='id')\n",
    "reviewers_df = merged_df[merged_df['title'] == 'My Third SQL book'][['reviewer_name']]\n",
    "\n",
    "print(\"Reviewers of 'My Third SQL book':\")\n",
    "print(reviewers_df)"
   ]
  },
  {
   "cell_type": "code",
   "execution_count": null,
   "id": "392f3477",
   "metadata": {},
   "outputs": [],
   "source": []
  },
  {
   "cell_type": "code",
   "execution_count": 10,
   "id": "b3bb1a46",
   "metadata": {},
   "outputs": [],
   "source": [
    "#Find the users that have no books checked out"
   ]
  },
  {
   "cell_type": "code",
   "execution_count": 11,
   "id": "9eb74f95",
   "metadata": {},
   "outputs": [
    {
     "name": "stdout",
     "output_type": "stream",
     "text": [
      "Users with no books checked out:\n",
      "('Harry Potter',)\n"
     ]
    }
   ],
   "source": [
    "#find users with no books checked out\n",
    "query3 = '''\n",
    "SELECT Users.full_name\n",
    "FROM Users\n",
    "LEFT JOIN Checkouts ON Users.id = Checkouts.user_id\n",
    "WHERE Checkouts.user_id IS NULL\n",
    "'''\n",
    "\n",
    "cursor.execute(query3)\n",
    "results3 = cursor.fetchall()\n",
    "\n",
    "print(\"Users with no books checked out:\")\n",
    "for row in results3:\n",
    "    print(row)"
   ]
  },
  {
   "cell_type": "code",
   "execution_count": 12,
   "id": "4c8bd61a",
   "metadata": {},
   "outputs": [
    {
     "name": "stdout",
     "output_type": "stream",
     "text": [
      "Users with no books checked out:\n",
      "      full_name\n",
      "4  Harry Potter\n"
     ]
    }
   ],
   "source": [
    "#Using Pandas\n",
    "#Load data into pandas dfs\n",
    "users_df = pd.read_sql_query(\"SELECT * FROM Users\", conn)\n",
    "checkouts_df = pd.read_sql_query(\"SELECT * FROM Checkouts\", conn)\n",
    "\n",
    "#Merge dfs to find users with no books checked out\n",
    "merged_df = pd.merge(users_df, checkouts_df, left_on='id', right_on='user_id', how='left', indicator=True)\n",
    "no_books_users_df = merged_df[merged_df['_merge'] == 'left_only'][['full_name']]\n",
    "\n",
    "print(\"Users with no books checked out:\")\n",
    "print(no_books_users_df)"
   ]
  },
  {
   "cell_type": "code",
   "execution_count": null,
   "id": "83ea555a",
   "metadata": {},
   "outputs": [],
   "source": []
  },
  {
   "cell_type": "code",
   "execution_count": 13,
   "id": "a93070dc",
   "metadata": {},
   "outputs": [],
   "source": [
    "#Write a SQL query to show all the records of the logs table"
   ]
  },
  {
   "cell_type": "code",
   "execution_count": 14,
   "id": "c80c32cb",
   "metadata": {},
   "outputs": [
    {
     "name": "stdout",
     "output_type": "stream",
     "text": [
      "Logs Table:\n",
      "(1, 5, '2024-07-06 18:41:21')\n"
     ]
    }
   ],
   "source": [
    "#show all records of the Logs table\n",
    "query_logs = '''\n",
    "SELECT * FROM Logs\n",
    "'''\n",
    "\n",
    "cursor.execute(query_logs)\n",
    "logs_results = cursor.fetchall()\n",
    "\n",
    "print(\"Logs Table:\")\n",
    "for log in logs_results:\n",
    "    print(log)"
   ]
  },
  {
   "cell_type": "code",
   "execution_count": 15,
   "id": "0415c481",
   "metadata": {},
   "outputs": [
    {
     "name": "stdout",
     "output_type": "stream",
     "text": [
      "Logs Table:\n",
      "   log_id  checkout_id            timestamp\n",
      "0       1            5  2024-07-06 18:41:21\n"
     ]
    }
   ],
   "source": [
    "#Load Logs table into a pandas df\n",
    "logs_df = pd.read_sql_query(\"SELECT * FROM Logs\", conn)\n",
    "\n",
    "print(\"Logs Table:\")\n",
    "print(logs_df)"
   ]
  },
  {
   "cell_type": "code",
   "execution_count": 16,
   "id": "75c6141a",
   "metadata": {},
   "outputs": [],
   "source": [
    "conn.commit()\n",
    "conn.close()"
   ]
  },
  {
   "cell_type": "code",
   "execution_count": null,
   "id": "24f6104a",
   "metadata": {},
   "outputs": [],
   "source": []
  }
 ],
 "metadata": {
  "kernelspec": {
   "display_name": "Python 3 (ipykernel)",
   "language": "python",
   "name": "python3"
  },
  "language_info": {
   "codemirror_mode": {
    "name": "ipython",
    "version": 3
   },
   "file_extension": ".py",
   "mimetype": "text/x-python",
   "name": "python",
   "nbconvert_exporter": "python",
   "pygments_lexer": "ipython3",
   "version": "3.11.7"
  }
 },
 "nbformat": 4,
 "nbformat_minor": 5
}
